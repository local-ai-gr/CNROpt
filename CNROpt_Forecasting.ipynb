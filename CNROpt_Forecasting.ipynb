{
  "nbformat": 4,
  "nbformat_minor": 0,
  "metadata": {
    "colab": {
      "provenance": [],
      "authorship_tag": "ABX9TyMhQPLQzc8G4vkchVA2PWJW",
      "include_colab_link": true
    },
    "kernelspec": {
      "name": "python3",
      "display_name": "Python 3"
    },
    "language_info": {
      "name": "python"
    }
  },
  "cells": [
    {
      "cell_type": "markdown",
      "metadata": {
        "id": "view-in-github",
        "colab_type": "text"
      },
      "source": [
        "<a href=\"https://colab.research.google.com/github/local-ai-gr/CNROpt/blob/main/CNROpt_Forecasting.ipynb\" target=\"_parent\"><img src=\"https://colab.research.google.com/assets/colab-badge.svg\" alt=\"Open In Colab\"/></a>"
      ]
    },
    {
      "cell_type": "markdown",
      "source": [
        "**CNROpt Model Training Code for the Forecasting Phase**"
      ],
      "metadata": {
        "id": "iGel0gG5-Hu5"
      }
    },
    {
      "cell_type": "markdown",
      "source": [
        "Importing Facebook Prophet Forecasting Module"
      ],
      "metadata": {
        "id": "C8MhPD5j-Wnp"
      }
    },
    {
      "cell_type": "code",
      "execution_count": null,
      "metadata": {
        "colab": {
          "base_uri": "https://localhost:8080/"
        },
        "id": "yjJYXzPj3Bu5",
        "outputId": "5e938f30-ebda-4722-bdc8-ebbef4a5e124"
      },
      "outputs": [
        {
          "output_type": "stream",
          "name": "stdout",
          "text": [
            "Looking in indexes: https://pypi.org/simple, https://us-python.pkg.dev/colab-wheels/public/simple/\n",
            "Requirement already satisfied: prophet in /usr/local/lib/python3.9/dist-packages (1.1.2)\n",
            "Requirement already satisfied: python-dateutil>=2.8.0 in /usr/local/lib/python3.9/dist-packages (from prophet) (2.8.2)\n",
            "Requirement already satisfied: LunarCalendar>=0.0.9 in /usr/local/lib/python3.9/dist-packages (from prophet) (0.0.9)\n",
            "Requirement already satisfied: cmdstanpy>=1.0.4 in /usr/local/lib/python3.9/dist-packages (from prophet) (1.1.0)\n",
            "Requirement already satisfied: holidays>=0.14.2 in /usr/local/lib/python3.9/dist-packages (from prophet) (0.22)\n",
            "Requirement already satisfied: tqdm>=4.36.1 in /usr/local/lib/python3.9/dist-packages (from prophet) (4.65.0)\n",
            "Requirement already satisfied: convertdate>=2.1.2 in /usr/local/lib/python3.9/dist-packages (from prophet) (2.4.0)\n",
            "Requirement already satisfied: matplotlib>=2.0.0 in /usr/local/lib/python3.9/dist-packages (from prophet) (3.7.1)\n",
            "Requirement already satisfied: pandas>=1.0.4 in /usr/local/lib/python3.9/dist-packages (from prophet) (1.5.3)\n",
            "Requirement already satisfied: numpy>=1.15.4 in /usr/local/lib/python3.9/dist-packages (from prophet) (1.22.4)\n",
            "Requirement already satisfied: pymeeus<=1,>=0.3.13 in /usr/local/lib/python3.9/dist-packages (from convertdate>=2.1.2->prophet) (0.5.12)\n",
            "Requirement already satisfied: korean-lunar-calendar in /usr/local/lib/python3.9/dist-packages (from holidays>=0.14.2->prophet) (0.3.1)\n",
            "Requirement already satisfied: hijri-converter in /usr/local/lib/python3.9/dist-packages (from holidays>=0.14.2->prophet) (2.2.4)\n",
            "Requirement already satisfied: ephem>=3.7.5.3 in /usr/local/lib/python3.9/dist-packages (from LunarCalendar>=0.0.9->prophet) (4.1.4)\n",
            "Requirement already satisfied: pytz in /usr/local/lib/python3.9/dist-packages (from LunarCalendar>=0.0.9->prophet) (2022.7.1)\n",
            "Requirement already satisfied: pillow>=6.2.0 in /usr/local/lib/python3.9/dist-packages (from matplotlib>=2.0.0->prophet) (8.4.0)\n",
            "Requirement already satisfied: pyparsing>=2.3.1 in /usr/local/lib/python3.9/dist-packages (from matplotlib>=2.0.0->prophet) (3.0.9)\n",
            "Requirement already satisfied: kiwisolver>=1.0.1 in /usr/local/lib/python3.9/dist-packages (from matplotlib>=2.0.0->prophet) (1.4.4)\n",
            "Requirement already satisfied: packaging>=20.0 in /usr/local/lib/python3.9/dist-packages (from matplotlib>=2.0.0->prophet) (23.1)\n",
            "Requirement already satisfied: fonttools>=4.22.0 in /usr/local/lib/python3.9/dist-packages (from matplotlib>=2.0.0->prophet) (4.39.3)\n",
            "Requirement already satisfied: contourpy>=1.0.1 in /usr/local/lib/python3.9/dist-packages (from matplotlib>=2.0.0->prophet) (1.0.7)\n",
            "Requirement already satisfied: cycler>=0.10 in /usr/local/lib/python3.9/dist-packages (from matplotlib>=2.0.0->prophet) (0.11.0)\n",
            "Requirement already satisfied: importlib-resources>=3.2.0 in /usr/local/lib/python3.9/dist-packages (from matplotlib>=2.0.0->prophet) (5.12.0)\n",
            "Requirement already satisfied: six>=1.5 in /usr/local/lib/python3.9/dist-packages (from python-dateutil>=2.8.0->prophet) (1.16.0)\n",
            "Requirement already satisfied: zipp>=3.1.0 in /usr/local/lib/python3.9/dist-packages (from importlib-resources>=3.2.0->matplotlib>=2.0.0->prophet) (3.15.0)\n"
          ]
        }
      ],
      "source": [
        "!pip install prophet\n",
        "\n"
      ]
    },
    {
      "cell_type": "code",
      "source": [
        "!pip install functions"
      ],
      "metadata": {
        "id": "pdbygpp-J3-o",
        "outputId": "89b5ab05-5c90-4fe1-8059-66cc9ee29c17",
        "colab": {
          "base_uri": "https://localhost:8080/"
        }
      },
      "execution_count": 9,
      "outputs": [
        {
          "output_type": "stream",
          "name": "stdout",
          "text": [
            "Looking in indexes: https://pypi.org/simple, https://us-python.pkg.dev/colab-wheels/public/simple/\n",
            "Collecting functions\n",
            "  Downloading functions-0.7.0.tar.gz (2.7 kB)\n",
            "  Preparing metadata (setup.py) ... \u001b[?25l\u001b[?25hdone\n",
            "Building wheels for collected packages: functions\n",
            "  Building wheel for functions (setup.py) ... \u001b[?25l\u001b[?25hdone\n",
            "  Created wheel for functions: filename=functions-0.7.0-py3-none-any.whl size=3037 sha256=e3542bb5906022ae7d22e2850fee99e8b6729729ae03b4121419ba724b5ff105\n",
            "  Stored in directory: /root/.cache/pip/wheels/92/90/bc/01eb2f163bcfa49c7ad5072fbe9d243038368b9001ec26a9da\n",
            "Successfully built functions\n",
            "Installing collected packages: functions\n",
            "Successfully installed functions-0.7.0\n"
          ]
        }
      ]
    },
    {
      "cell_type": "code",
      "source": [
        "import pandas as pd\n",
        "import prophet as ph\n",
        "import psycopg2\n",
        "import os\n",
        "import sys\n",
        "from functions import sql_to_dataframe"
      ],
      "metadata": {
        "id": "FHz7LeQI3Ge4",
        "outputId": "1221c807-c4a4-4e40-911b-c30f243f6155",
        "colab": {
          "base_uri": "https://localhost:8080/",
          "height": 269
        }
      },
      "execution_count": 11,
      "outputs": [
        {
          "output_type": "error",
          "ename": "SyntaxError",
          "evalue": "ignored",
          "traceback": [
            "Traceback \u001b[0;36m(most recent call last)\u001b[0m:\n",
            "  File \u001b[1;32m\"/usr/local/lib/python3.10/dist-packages/IPython/core/interactiveshell.py\"\u001b[0m, line \u001b[1;32m3553\u001b[0m, in \u001b[1;35mrun_code\u001b[0m\n    exec(code_obj, self.user_global_ns, self.user_ns)\n",
            "\u001b[0;36m  File \u001b[0;32m\"<ipython-input-11-07e5172ec197>\"\u001b[0;36m, line \u001b[0;32m6\u001b[0;36m, in \u001b[0;35m<cell line: 6>\u001b[0;36m\u001b[0m\n\u001b[0;31m    from functions import sql_to_dataframe\u001b[0m\n",
            "\u001b[0;36m  File \u001b[0;32m\"/usr/local/lib/python3.10/dist-packages/functions.py\"\u001b[0;36m, line \u001b[0;32m68\u001b[0m\n\u001b[0;31m    nodes = tuple(map(lambda (k, v): process_node(inner, k, v),\u001b[0m\n\u001b[0m                             ^\u001b[0m\n\u001b[0;31mSyntaxError\u001b[0m\u001b[0;31m:\u001b[0m invalid syntax\n"
          ]
        }
      ]
    },
    {
      "cell_type": "markdown",
      "source": [
        "Connecting to PostGIS Database (host: 34.171.207.247:5432\n",
        "db: localai) and loading data (all but the test set) to pandas Data Frame"
      ],
      "metadata": {
        "id": "ZtQ1FfI2-fCT"
      }
    },
    {
      "cell_type": "code",
      "source": [
        "conn = psycopg2.connect(\n",
        "                   host='34.171.207.247',\n",
        "                   database='localai',\n",
        "                   user='postgres',\n",
        "                   password='pglocalai')"
      ],
      "metadata": {
        "id": "PpusjOqa-wE7"
      },
      "execution_count": 4,
      "outputs": []
    },
    {
      "cell_type": "markdown",
      "source": [
        "Run Prophet and Test it using various settings, and on the various KPIs such as \n",
        "\n",
        "Report the results for each configuration.\n",
        "\n"
      ],
      "metadata": {
        "id": "5CguM4qu-xsG"
      }
    },
    {
      "cell_type": "code",
      "source": [
        "query = \"select * from station_data_hour\"\n",
        "cursor = conn.cursor()\n",
        "cursor.execute(query)\n",
        "tupples = cursor.fetchall()\n",
        "cursor.close()\n",
        "\n",
        "df = pd.DataFrame(tupples)\n"
      ],
      "metadata": {
        "id": "jzwH4duQA7jG"
      },
      "execution_count": 16,
      "outputs": []
    },
    {
      "cell_type": "markdown",
      "source": [
        "Visualize the results using matplotlib and folium maps"
      ],
      "metadata": {
        "id": "1V35_qWVA-WG"
      }
    },
    {
      "cell_type": "code",
      "source": [
        "df"
      ],
      "metadata": {
        "id": "o5HWVjftBC1s",
        "outputId": "9da94dca-4dfd-4cfe-aa7a-12ae31931d91",
        "colab": {
          "base_uri": "https://localhost:8080/",
          "height": 672
        }
      },
      "execution_count": 17,
      "outputs": [
        {
          "output_type": "execute_result",
          "data": {
            "text/plain": [
              "            0                        1            2           3      4   \\\n",
              "0       107579  Koprivnica Mihanovićeva  HRHEP-48001  Koprivnica  48000   \n",
              "1       107579  Koprivnica Mihanovićeva  HRHEP-48001  Koprivnica  48000   \n",
              "2       107579  Koprivnica Mihanovićeva  HRHEP-48001  Koprivnica  48000   \n",
              "3       107579  Koprivnica Mihanovićeva  HRHEP-48001  Koprivnica  48000   \n",
              "4       107579  Koprivnica Mihanovićeva  HRHEP-48001  Koprivnica  48000   \n",
              "...        ...                      ...          ...         ...    ...   \n",
              "435210  359766             Rijeka Jolly  HRHEP-51030      Rijeka  51118   \n",
              "435211  359766             Rijeka Jolly  HRHEP-51030      Rijeka  51118   \n",
              "435212  359766             Rijeka Jolly  HRHEP-51030      Rijeka  51118   \n",
              "435213  359766             Rijeka Jolly  HRHEP-51030      Rijeka  51118   \n",
              "435214  359766             Rijeka Jolly  HRHEP-51030      Rijeka  51118   \n",
              "\n",
              "                             5     6                            7   \\\n",
              "0       Ulica Antuna Mihanovića     9  Public access - Free access   \n",
              "1       Ulica Antuna Mihanovića     9  Public access - Free access   \n",
              "2       Ulica Antuna Mihanovića     9  Public access - Free access   \n",
              "3       Ulica Antuna Mihanovića     9  Public access - Free access   \n",
              "4       Ulica Antuna Mihanovića     9  Public access - Free access   \n",
              "...                         ...   ...                          ...   \n",
              "435210                  Osječka  39/A  Public access - Free access   \n",
              "435211                  Osječka  39/A  Public access - Free access   \n",
              "435212                  Osječka  39/A  Public access - Free access   \n",
              "435213                  Osječka  39/A  Public access - Free access   \n",
              "435214                  Osječka  39/A  Public access - Free access   \n",
              "\n",
              "                              8          9   10  11        12  \n",
              "0      2019-09-15 12:00:00+00:00   5.000000   7   0  2.477495  \n",
              "1      2019-09-15 13:00:00+00:00  14.285714   7   1  7.078557  \n",
              "2      2019-09-15 14:00:00+00:00  13.095238   7   0  6.488678  \n",
              "3      2019-09-16 07:00:00+00:00   1.428571   7   0  1.778800  \n",
              "4      2019-09-16 08:00:00+00:00   2.142857   7   0  2.668201  \n",
              "...                          ...        ...  ..  ..       ...  \n",
              "435210 2022-10-13 13:00:00+00:00  45.833333   2   0  4.453712  \n",
              "435211 2022-10-21 11:00:00+00:00  39.166667   2   0  5.640000  \n",
              "435212 2022-10-21 12:00:00+00:00  50.000000   2   1  7.200000  \n",
              "435213 2022-10-21 13:00:00+00:00  14.166667   2   0  2.040000  \n",
              "435214 2022-10-26 07:00:00+00:00  27.500000   2   0  4.946523  \n",
              "\n",
              "[435215 rows x 13 columns]"
            ],
            "text/html": [
              "\n",
              "  <div id=\"df-9e8e17d5-d78a-4078-834d-4b191f532e66\">\n",
              "    <div class=\"colab-df-container\">\n",
              "      <div>\n",
              "<style scoped>\n",
              "    .dataframe tbody tr th:only-of-type {\n",
              "        vertical-align: middle;\n",
              "    }\n",
              "\n",
              "    .dataframe tbody tr th {\n",
              "        vertical-align: top;\n",
              "    }\n",
              "\n",
              "    .dataframe thead th {\n",
              "        text-align: right;\n",
              "    }\n",
              "</style>\n",
              "<table border=\"1\" class=\"dataframe\">\n",
              "  <thead>\n",
              "    <tr style=\"text-align: right;\">\n",
              "      <th></th>\n",
              "      <th>0</th>\n",
              "      <th>1</th>\n",
              "      <th>2</th>\n",
              "      <th>3</th>\n",
              "      <th>4</th>\n",
              "      <th>5</th>\n",
              "      <th>6</th>\n",
              "      <th>7</th>\n",
              "      <th>8</th>\n",
              "      <th>9</th>\n",
              "      <th>10</th>\n",
              "      <th>11</th>\n",
              "      <th>12</th>\n",
              "    </tr>\n",
              "  </thead>\n",
              "  <tbody>\n",
              "    <tr>\n",
              "      <th>0</th>\n",
              "      <td>107579</td>\n",
              "      <td>Koprivnica Mihanovićeva</td>\n",
              "      <td>HRHEP-48001</td>\n",
              "      <td>Koprivnica</td>\n",
              "      <td>48000</td>\n",
              "      <td>Ulica Antuna Mihanovića</td>\n",
              "      <td>9</td>\n",
              "      <td>Public access - Free access</td>\n",
              "      <td>2019-09-15 12:00:00+00:00</td>\n",
              "      <td>5.000000</td>\n",
              "      <td>7</td>\n",
              "      <td>0</td>\n",
              "      <td>2.477495</td>\n",
              "    </tr>\n",
              "    <tr>\n",
              "      <th>1</th>\n",
              "      <td>107579</td>\n",
              "      <td>Koprivnica Mihanovićeva</td>\n",
              "      <td>HRHEP-48001</td>\n",
              "      <td>Koprivnica</td>\n",
              "      <td>48000</td>\n",
              "      <td>Ulica Antuna Mihanovića</td>\n",
              "      <td>9</td>\n",
              "      <td>Public access - Free access</td>\n",
              "      <td>2019-09-15 13:00:00+00:00</td>\n",
              "      <td>14.285714</td>\n",
              "      <td>7</td>\n",
              "      <td>1</td>\n",
              "      <td>7.078557</td>\n",
              "    </tr>\n",
              "    <tr>\n",
              "      <th>2</th>\n",
              "      <td>107579</td>\n",
              "      <td>Koprivnica Mihanovićeva</td>\n",
              "      <td>HRHEP-48001</td>\n",
              "      <td>Koprivnica</td>\n",
              "      <td>48000</td>\n",
              "      <td>Ulica Antuna Mihanovića</td>\n",
              "      <td>9</td>\n",
              "      <td>Public access - Free access</td>\n",
              "      <td>2019-09-15 14:00:00+00:00</td>\n",
              "      <td>13.095238</td>\n",
              "      <td>7</td>\n",
              "      <td>0</td>\n",
              "      <td>6.488678</td>\n",
              "    </tr>\n",
              "    <tr>\n",
              "      <th>3</th>\n",
              "      <td>107579</td>\n",
              "      <td>Koprivnica Mihanovićeva</td>\n",
              "      <td>HRHEP-48001</td>\n",
              "      <td>Koprivnica</td>\n",
              "      <td>48000</td>\n",
              "      <td>Ulica Antuna Mihanovića</td>\n",
              "      <td>9</td>\n",
              "      <td>Public access - Free access</td>\n",
              "      <td>2019-09-16 07:00:00+00:00</td>\n",
              "      <td>1.428571</td>\n",
              "      <td>7</td>\n",
              "      <td>0</td>\n",
              "      <td>1.778800</td>\n",
              "    </tr>\n",
              "    <tr>\n",
              "      <th>4</th>\n",
              "      <td>107579</td>\n",
              "      <td>Koprivnica Mihanovićeva</td>\n",
              "      <td>HRHEP-48001</td>\n",
              "      <td>Koprivnica</td>\n",
              "      <td>48000</td>\n",
              "      <td>Ulica Antuna Mihanovića</td>\n",
              "      <td>9</td>\n",
              "      <td>Public access - Free access</td>\n",
              "      <td>2019-09-16 08:00:00+00:00</td>\n",
              "      <td>2.142857</td>\n",
              "      <td>7</td>\n",
              "      <td>0</td>\n",
              "      <td>2.668201</td>\n",
              "    </tr>\n",
              "    <tr>\n",
              "      <th>...</th>\n",
              "      <td>...</td>\n",
              "      <td>...</td>\n",
              "      <td>...</td>\n",
              "      <td>...</td>\n",
              "      <td>...</td>\n",
              "      <td>...</td>\n",
              "      <td>...</td>\n",
              "      <td>...</td>\n",
              "      <td>...</td>\n",
              "      <td>...</td>\n",
              "      <td>...</td>\n",
              "      <td>...</td>\n",
              "      <td>...</td>\n",
              "    </tr>\n",
              "    <tr>\n",
              "      <th>435210</th>\n",
              "      <td>359766</td>\n",
              "      <td>Rijeka Jolly</td>\n",
              "      <td>HRHEP-51030</td>\n",
              "      <td>Rijeka</td>\n",
              "      <td>51118</td>\n",
              "      <td>Osječka</td>\n",
              "      <td>39/A</td>\n",
              "      <td>Public access - Free access</td>\n",
              "      <td>2022-10-13 13:00:00+00:00</td>\n",
              "      <td>45.833333</td>\n",
              "      <td>2</td>\n",
              "      <td>0</td>\n",
              "      <td>4.453712</td>\n",
              "    </tr>\n",
              "    <tr>\n",
              "      <th>435211</th>\n",
              "      <td>359766</td>\n",
              "      <td>Rijeka Jolly</td>\n",
              "      <td>HRHEP-51030</td>\n",
              "      <td>Rijeka</td>\n",
              "      <td>51118</td>\n",
              "      <td>Osječka</td>\n",
              "      <td>39/A</td>\n",
              "      <td>Public access - Free access</td>\n",
              "      <td>2022-10-21 11:00:00+00:00</td>\n",
              "      <td>39.166667</td>\n",
              "      <td>2</td>\n",
              "      <td>0</td>\n",
              "      <td>5.640000</td>\n",
              "    </tr>\n",
              "    <tr>\n",
              "      <th>435212</th>\n",
              "      <td>359766</td>\n",
              "      <td>Rijeka Jolly</td>\n",
              "      <td>HRHEP-51030</td>\n",
              "      <td>Rijeka</td>\n",
              "      <td>51118</td>\n",
              "      <td>Osječka</td>\n",
              "      <td>39/A</td>\n",
              "      <td>Public access - Free access</td>\n",
              "      <td>2022-10-21 12:00:00+00:00</td>\n",
              "      <td>50.000000</td>\n",
              "      <td>2</td>\n",
              "      <td>1</td>\n",
              "      <td>7.200000</td>\n",
              "    </tr>\n",
              "    <tr>\n",
              "      <th>435213</th>\n",
              "      <td>359766</td>\n",
              "      <td>Rijeka Jolly</td>\n",
              "      <td>HRHEP-51030</td>\n",
              "      <td>Rijeka</td>\n",
              "      <td>51118</td>\n",
              "      <td>Osječka</td>\n",
              "      <td>39/A</td>\n",
              "      <td>Public access - Free access</td>\n",
              "      <td>2022-10-21 13:00:00+00:00</td>\n",
              "      <td>14.166667</td>\n",
              "      <td>2</td>\n",
              "      <td>0</td>\n",
              "      <td>2.040000</td>\n",
              "    </tr>\n",
              "    <tr>\n",
              "      <th>435214</th>\n",
              "      <td>359766</td>\n",
              "      <td>Rijeka Jolly</td>\n",
              "      <td>HRHEP-51030</td>\n",
              "      <td>Rijeka</td>\n",
              "      <td>51118</td>\n",
              "      <td>Osječka</td>\n",
              "      <td>39/A</td>\n",
              "      <td>Public access - Free access</td>\n",
              "      <td>2022-10-26 07:00:00+00:00</td>\n",
              "      <td>27.500000</td>\n",
              "      <td>2</td>\n",
              "      <td>0</td>\n",
              "      <td>4.946523</td>\n",
              "    </tr>\n",
              "  </tbody>\n",
              "</table>\n",
              "<p>435215 rows × 13 columns</p>\n",
              "</div>\n",
              "      <button class=\"colab-df-convert\" onclick=\"convertToInteractive('df-9e8e17d5-d78a-4078-834d-4b191f532e66')\"\n",
              "              title=\"Convert this dataframe to an interactive table.\"\n",
              "              style=\"display:none;\">\n",
              "        \n",
              "  <svg xmlns=\"http://www.w3.org/2000/svg\" height=\"24px\"viewBox=\"0 0 24 24\"\n",
              "       width=\"24px\">\n",
              "    <path d=\"M0 0h24v24H0V0z\" fill=\"none\"/>\n",
              "    <path d=\"M18.56 5.44l.94 2.06.94-2.06 2.06-.94-2.06-.94-.94-2.06-.94 2.06-2.06.94zm-11 1L8.5 8.5l.94-2.06 2.06-.94-2.06-.94L8.5 2.5l-.94 2.06-2.06.94zm10 10l.94 2.06.94-2.06 2.06-.94-2.06-.94-.94-2.06-.94 2.06-2.06.94z\"/><path d=\"M17.41 7.96l-1.37-1.37c-.4-.4-.92-.59-1.43-.59-.52 0-1.04.2-1.43.59L10.3 9.45l-7.72 7.72c-.78.78-.78 2.05 0 2.83L4 21.41c.39.39.9.59 1.41.59.51 0 1.02-.2 1.41-.59l7.78-7.78 2.81-2.81c.8-.78.8-2.07 0-2.86zM5.41 20L4 18.59l7.72-7.72 1.47 1.35L5.41 20z\"/>\n",
              "  </svg>\n",
              "      </button>\n",
              "      \n",
              "  <style>\n",
              "    .colab-df-container {\n",
              "      display:flex;\n",
              "      flex-wrap:wrap;\n",
              "      gap: 12px;\n",
              "    }\n",
              "\n",
              "    .colab-df-convert {\n",
              "      background-color: #E8F0FE;\n",
              "      border: none;\n",
              "      border-radius: 50%;\n",
              "      cursor: pointer;\n",
              "      display: none;\n",
              "      fill: #1967D2;\n",
              "      height: 32px;\n",
              "      padding: 0 0 0 0;\n",
              "      width: 32px;\n",
              "    }\n",
              "\n",
              "    .colab-df-convert:hover {\n",
              "      background-color: #E2EBFA;\n",
              "      box-shadow: 0px 1px 2px rgba(60, 64, 67, 0.3), 0px 1px 3px 1px rgba(60, 64, 67, 0.15);\n",
              "      fill: #174EA6;\n",
              "    }\n",
              "\n",
              "    [theme=dark] .colab-df-convert {\n",
              "      background-color: #3B4455;\n",
              "      fill: #D2E3FC;\n",
              "    }\n",
              "\n",
              "    [theme=dark] .colab-df-convert:hover {\n",
              "      background-color: #434B5C;\n",
              "      box-shadow: 0px 1px 3px 1px rgba(0, 0, 0, 0.15);\n",
              "      filter: drop-shadow(0px 1px 2px rgba(0, 0, 0, 0.3));\n",
              "      fill: #FFFFFF;\n",
              "    }\n",
              "  </style>\n",
              "\n",
              "      <script>\n",
              "        const buttonEl =\n",
              "          document.querySelector('#df-9e8e17d5-d78a-4078-834d-4b191f532e66 button.colab-df-convert');\n",
              "        buttonEl.style.display =\n",
              "          google.colab.kernel.accessAllowed ? 'block' : 'none';\n",
              "\n",
              "        async function convertToInteractive(key) {\n",
              "          const element = document.querySelector('#df-9e8e17d5-d78a-4078-834d-4b191f532e66');\n",
              "          const dataTable =\n",
              "            await google.colab.kernel.invokeFunction('convertToInteractive',\n",
              "                                                     [key], {});\n",
              "          if (!dataTable) return;\n",
              "\n",
              "          const docLinkHtml = 'Like what you see? Visit the ' +\n",
              "            '<a target=\"_blank\" href=https://colab.research.google.com/notebooks/data_table.ipynb>data table notebook</a>'\n",
              "            + ' to learn more about interactive tables.';\n",
              "          element.innerHTML = '';\n",
              "          dataTable['output_type'] = 'display_data';\n",
              "          await google.colab.output.renderOutput(dataTable, element);\n",
              "          const docLink = document.createElement('div');\n",
              "          docLink.innerHTML = docLinkHtml;\n",
              "          element.appendChild(docLink);\n",
              "        }\n",
              "      </script>\n",
              "    </div>\n",
              "  </div>\n",
              "  "
            ]
          },
          "metadata": {},
          "execution_count": 17
        },
        {
          "output_type": "stream",
          "name": "stdout",
          "text": [
            "Warning: total number of rows (435215) exceeds max_rows (20000). Limiting to first (20000) rows.\n"
          ]
        }
      ]
    }
  ]
}